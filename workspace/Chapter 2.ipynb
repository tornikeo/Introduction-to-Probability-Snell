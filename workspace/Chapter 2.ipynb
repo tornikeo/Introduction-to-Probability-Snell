{
 "cells": [
  {
   "cell_type": "markdown",
   "metadata": {},
   "source": [
    "# Buffon's Needle"
   ]
  },
  {
   "cell_type": "code",
   "execution_count": 10,
   "metadata": {},
   "outputs": [
    {
     "data": {
      "text/plain": [
       "array([[0.26667899, 0.21642603],\n",
       "       [0.19820161, 1.0613306 ],\n",
       "       [0.31927154, 1.46328105],\n",
       "       [0.19327295, 0.96069707],\n",
       "       [0.14418484, 0.08787517],\n",
       "       [0.26460794, 1.55197477],\n",
       "       [0.4185071 , 1.49475863],\n",
       "       [0.35568265, 1.03417208],\n",
       "       [0.13258247, 0.21229832],\n",
       "       [0.45008707, 1.08678685]])"
      ]
     },
     "execution_count": 10,
     "metadata": {},
     "output_type": "execute_result"
    }
   ],
   "source": [
    "import numpy as np\n",
    "\n",
    "def drop_needle(n=100):\n",
    "    return np.c_[\n",
    "                 np.random.uniform(low=0.0, high=1/2, size=n),\n",
    "                 np.random.uniform(low=0.0, high=np.pi/2, size=n)\n",
    "                ]\n",
    "\n",
    "drop_needle(n=10)"
   ]
  },
  {
   "cell_type": "code",
   "execution_count": 21,
   "metadata": {},
   "outputs": [],
   "source": [
    "error = 0.0001\n",
    "n = int(1/error**2)\n",
    "needles = drop_needle(n=n)"
   ]
  },
  {
   "cell_type": "code",
   "execution_count": 22,
   "metadata": {},
   "outputs": [
    {
     "data": {
      "text/plain": [
       "3.1417147076735e-08"
      ]
     },
     "execution_count": 22,
     "metadata": {},
     "output_type": "execute_result"
    }
   ],
   "source": [
    "needles_crossing = needles[:,0] < (1/2 * np.sin(needles[:,1]))\n",
    "2 / needles_crossing.sum()"
   ]
  },
  {
   "cell_type": "markdown",
   "metadata": {},
   "source": [
    "## Exercises"
   ]
  },
  {
   "cell_type": "markdown",
   "metadata": {},
   "source": [
    "3. Alter the program MonteCarlo to estimate the area of the circle of radius 1/2 with center at (1/2, 1/2) inside the unit square by choosing 1000 points at random. Compare your results with the true value of π/4. Use your results to estimate the value of π. How accurate is your estimate?"
   ]
  },
  {
   "cell_type": "markdown",
   "metadata": {},
   "source": [
    "$\\sqrt{(x - x_1)^2 + (y - y_1)^2} = r$"
   ]
  },
  {
   "cell_type": "code",
   "execution_count": 10,
   "metadata": {},
   "outputs": [
    {
     "data": {
      "text/plain": [
       "0.79"
      ]
     },
     "execution_count": 10,
     "metadata": {},
     "output_type": "execute_result"
    }
   ],
   "source": [
    "import numpy as np\n",
    "dots = np.random.uniform(0,1,(1000,2))\n",
    "def in_circle(points):\n",
    "    x,y = points[:,0],points[:,1]\n",
    "    return np.sqrt((x-1/2)**2 + (y - 1/2)**2) <= 1/2\n",
    "\n",
    "in_circle(dots).sum() / len(dots)"
   ]
  },
  {
   "cell_type": "code",
   "execution_count": 11,
   "metadata": {},
   "outputs": [
    {
     "data": {
      "text/plain": [
       "0.7853981633974483"
      ]
     },
     "execution_count": 11,
     "metadata": {},
     "output_type": "execute_result"
    }
   ],
   "source": [
    "np.pi/4"
   ]
  },
  {
   "cell_type": "markdown",
   "metadata": {},
   "source": [
    "4. Alter the program MonteCarlo to estimate the area under the graph of $y = \\sin(πx)$ inside the unit square by choosing 10,000 points at random. Now calculate the true value of this area and use your results to  stimate the value of $π$. How accurate is your estimate?"
   ]
  },
  {
   "cell_type": "code",
   "execution_count": 34,
   "metadata": {},
   "outputs": [
    {
     "data": {
      "image/png": "[encoded data removed]",
      "text/plain": [
       "<Figure size 432x288 with 1 Axes>"
      ]
     },
     "metadata": {
      "needs_background": "light"
     },
     "output_type": "display_data"
    }
   ],
   "source": [
    "import matplotlib.pyplot as plt\n",
    "import matplotlib.patches as patches\n",
    "x = np.linspace(-2,2,1000)\n",
    "y = np.sin(np.pi * x)\n",
    "plt.plot(x,y, label='sin(pi x)')\n",
    "\n",
    "rect = patches.Rectangle((0,0),1,1,fill=False,linewidth=3,color='b', label='unit square')\n",
    "plt.gca().add_patch(rect)\n",
    "plt.grid()\n",
    "plt.axis('equal')\n",
    "plt.legend()\n",
    "plt.show()"
   ]
  },
  {
   "cell_type": "code",
   "execution_count": 40,
   "metadata": {},
   "outputs": [
    {
     "data": {
      "text/plain": [
       "0.63721"
      ]
     },
     "execution_count": 40,
     "metadata": {},
     "output_type": "execute_result"
    }
   ],
   "source": [
    "dots = np.random.uniform(0,1,(100000, 2))\n",
    "\n",
    "def under_curve(points):\n",
    "    x,y = points[:,0],points[:,1]\n",
    "    return y <= np.sin(np.pi * x)\n",
    "\n",
    "under_curve(dots).sum() / len(dots)"
   ]
  },
  {
   "cell_type": "markdown",
   "metadata": {},
   "source": [
    "The true area is: \n",
    "$\\int_{0}^{1} \\sin(\\pi x) \\,dx = - \\frac{\\cos(\\pi x)}{\\pi} \\Big|_0^1 = \\frac{2}{\\pi} \\approx 0.6366197723675814$ "
   ]
  },
  {
   "cell_type": "markdown",
   "metadata": {},
   "source": [
    "7. For Buffon’s needle problem, Laplace considered a grid with horizontal and vertical lines one unit apart. He showed that the probability that a needle of length L ≤ 1 crosses at least one line is\n",
    "<center>$p = \\frac{4L - L^2}{\\pi}$</center>\n",
    "To simulate this experiment we choose at random an angle θ between 0 and π/2 and independently two numbers d 1 and d 2 between 0 and L/2. (The two numbers represent the distance from the center of the needle to the nearest horizontal and vertical line.) The needle crosses a line if either d 1 ≤ (L/2) sin or d 2 ≤ (L/2) cos θ. We do this a large number of times and estimate π as:\n",
    "<center>$\\hat\\pi = \\frac{4L-L^2}{a}$</center>  \n",
    "where a is the proportion of times that the needle crosses at least one line. Write a program to estimate π by this method, run your program for 100, 1000, and 10,000 experiments, and compare your results with Buffon’s method described in Exercise 6. (Take L = 1.)"
   ]
  },
  {
   "cell_type": "code",
   "execution_count": 92,
   "metadata": {},
   "outputs": [
    {
     "data": {
      "text/plain": [
       "(10000, 3)"
      ]
     },
     "execution_count": 92,
     "metadata": {},
     "output_type": "execute_result"
    }
   ],
   "source": [
    "L = 1\n",
    "needles = np.concatenate([np.random.uniform(0,np.pi/2, (10000,1)),\n",
    "                          np.random.uniform(0,L/2, (10000,1)),\n",
    "                          np.random.uniform(0,L/2, (10000,1))\n",
    "                         ], axis=1)\n",
    "needles.shape"
   ]
  },
  {
   "cell_type": "code",
   "execution_count": 95,
   "metadata": {},
   "outputs": [
    {
     "data": {
      "text/plain": [
       "3.141690229343387"
      ]
     },
     "execution_count": 95,
     "metadata": {},
     "output_type": "execute_result"
    }
   ],
   "source": [
    "def crossing_line(needles):\n",
    "    theta,d1,d2 = np.split(needles,3,axis=1)\n",
    "    return ((d1 <= (L/2) * np.sin(theta)) \n",
    "            | (d2 <= (L/2) * np.cos(theta))\n",
    "           )\n",
    "\n",
    "a = crossing_line(needles).sum() / len(needles)\n",
    "pi_hat = (4 * L - L ** 2) / a\n",
    "pi_hat"
   ]
  },
  {
   "cell_type": "code",
   "execution_count": 96,
   "metadata": {},
   "outputs": [
    {
     "data": {
      "text/plain": [
       "3.141592653589793"
      ]
     },
     "execution_count": 96,
     "metadata": {},
     "output_type": "execute_result"
    }
   ],
   "source": [
    "np.pi"
   ]
  },
  {
   "cell_type": "markdown",
   "metadata": {},
   "source": [
    "9. A large number of waiting time problems have an exponential distribution of \n",
    "outcomes. We shall see (in Section 5.2) that such outcomes are simulated by\n",
    "computing (−1/λ) log(rnd), where λ > 0. For waiting times produced in this\n",
    "way, the average waiting time is 1/λ. For example, the times spent waiting for\n",
    "a car to pass on a highway, or the times between emissions of particles from a\n",
    "radioactive source, are simulated by a sequence of random numbers, each of\n",
    "which is chosen by computing (−1/λ) log(rnd), where 1/λ is the average time\n",
    "between cars or emissions. Write a program to simulate the times between\n",
    "cars when the average time between cars is 30 seconds. Have your program\n",
    "compute an area bar graph for these times by breaking the time interval from\n",
    "0 to 120 into 24 subintervals. On the same pair of axes, plot the function\n",
    "$f (x) = (1/30)e^{−(1/30)x}$ . Does the function fit the bar graph well?"
   ]
  },
  {
   "cell_type": "code",
   "execution_count": 118,
   "metadata": {},
   "outputs": [],
   "source": [
    "avg_time = 30 # seconds\n",
    "lambda_ = 1/avg_time\n",
    "rnd = np.random.uniform(size=10000)\n",
    "car_times = (-1/lambda_) * np.log(rnd)\n",
    "\n",
    "x = np.linspace(0, 120, 10000)\n",
    "car_times_theory = (1/30) * np.exp(-1/30 * x)"
   ]
  },
  {
   "cell_type": "code",
   "execution_count": 123,
   "metadata": {},
   "outputs": [
    {
     "data": {
      "image/png": "[encoded data removed]",
      "text/plain": [
       "<Figure size 432x288 with 1 Axes>"
      ]
     },
     "metadata": {
      "needs_background": "light"
     },
     "output_type": "display_data"
    }
   ],
   "source": [
    "bins = np.linspace(0,120+1,24)\n",
    "plt.hist(car_times, bins=bins, \n",
    "         density=True, edgecolor='k', label='actual time')\n",
    "plt.plot(x, car_times_theory, '-k', \n",
    "         linewidth=3,label='theoretical time')\n",
    "plt.title(\"Time spent waiting between passing cars\")\n",
    "plt.xlabel('Time (sec)')\n",
    "plt.ylabel('# of cars')\n",
    "plt.legend()\n",
    "plt.show()"
   ]
  },
  {
   "cell_type": "code",
   "execution_count": null,
   "metadata": {},
   "outputs": [],
   "source": []
  }
 ],
 "metadata": {
  "kernelspec": {
   "display_name": "Python 3",
   "language": "python",
   "name": "python3"
  },
  "language_info": {
   "codemirror_mode": {
    "name": "ipython",
    "version": 3
   },
   "file_extension": ".py",
   "mimetype": "text/x-python",
   "name": "python",
   "nbconvert_exporter": "python",
   "pygments_lexer": "ipython3",
   "version": "3.5.6"
  }
 },
 "nbformat": 4,
 "nbformat_minor": 4
}
