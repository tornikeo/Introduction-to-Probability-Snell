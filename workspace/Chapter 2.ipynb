{
 "cells": [
  {
   "cell_type": "markdown",
   "metadata": {},
   "source": [
    "# Buffon's Needle"
   ]
  },
  {
   "cell_type": "code",
   "execution_count": 10,
   "metadata": {},
   "outputs": [
    {
     "data": {
      "text/plain": [
       "array([[0.26667899, 0.21642603],\n",
       "       [0.19820161, 1.0613306 ],\n",
       "       [0.31927154, 1.46328105],\n",
       "       [0.19327295, 0.96069707],\n",
       "       [0.14418484, 0.08787517],\n",
       "       [0.26460794, 1.55197477],\n",
       "       [0.4185071 , 1.49475863],\n",
       "       [0.35568265, 1.03417208],\n",
       "       [0.13258247, 0.21229832],\n",
       "       [0.45008707, 1.08678685]])"
      ]
     },
     "execution_count": 10,
     "metadata": {},
     "output_type": "execute_result"
    }
   ],
   "source": [
    "import numpy as np\n",
    "\n",
    "def drop_needle(n=100):\n",
    "    return np.c_[\n",
    "                 np.random.uniform(low=0.0, high=1/2, size=n),\n",
    "                 np.random.uniform(low=0.0, high=np.pi/2, size=n)\n",
    "                ]\n",
    "\n",
    "drop_needle(n=10)"
   ]
  },
  {
   "cell_type": "code",
   "execution_count": 21,
   "metadata": {},
   "outputs": [],
   "source": [
    "error = 0.0001\n",
    "n = int(1/error**2)\n",
    "needles = drop_needle(n=n)"
   ]
  },
  {
   "cell_type": "code",
   "execution_count": 22,
   "metadata": {},
   "outputs": [
    {
     "data": {
      "text/plain": [
       "3.1417147076735e-08"
      ]
     },
     "execution_count": 22,
     "metadata": {},
     "output_type": "execute_result"
    }
   ],
   "source": [
    "needles_crossing = needles[:,0] < (1/2 * np.sin(needles[:,1]))\n",
    "2 / needles_crossing.sum()"
   ]
  },
  {
   "cell_type": "markdown",
   "metadata": {},
   "source": [
    "## Exercises"
   ]
  },
  {
   "cell_type": "markdown",
   "metadata": {},
   "source": [
    "3. Alter the program MonteCarlo to estimate the area of the circle of radius 1/2 with center at (1/2, 1/2) inside the unit square by choosing 1000 points at random. Compare your results with the true value of π/4. Use your results to estimate the value of π. How accurate is your estimate?"
   ]
  },
  {
   "cell_type": "markdown",
   "metadata": {},
   "source": [
    "$\\sqrt{(x - x_1)^2 + (y - y_1)^2} = r$"
   ]
  },
  {
   "cell_type": "code",
   "execution_count": 10,
   "metadata": {},
   "outputs": [
    {
     "data": {
      "text/plain": [
       "0.79"
      ]
     },
     "execution_count": 10,
     "metadata": {},
     "output_type": "execute_result"
    }
   ],
   "source": [
    "import numpy as np\n",
    "dots = np.random.uniform(0,1,(1000,2))\n",
    "def in_circle(points):\n",
    "    x,y = points[:,0],points[:,1]\n",
    "    return np.sqrt((x-1/2)**2 + (y - 1/2)**2) <= 1/2\n",
    "\n",
    "in_circle(dots).sum() / len(dots)"
   ]
  },
  {
   "cell_type": "code",
   "execution_count": 11,
   "metadata": {},
   "outputs": [
    {
     "data": {
      "text/plain": [
       "0.7853981633974483"
      ]
     },
     "execution_count": 11,
     "metadata": {},
     "output_type": "execute_result"
    }
   ],
   "source": [
    "np.pi/4"
   ]
  },
  {
   "cell_type": "markdown",
   "metadata": {},
   "source": [
    "4. Alter the program MonteCarlo to estimate the area under the graph of $y = \\sin(πx)$ inside the unit square by choosing 10,000 points at random. Now calculate the true value of this area and use your results to  stimate the value of $π$. How accurate is your estimate?"
   ]
  },
  {
   "cell_type": "code",
   "execution_count": null,
   "metadata": {},
   "outputs": [],
   "source": [
    "dots = np.random.uniform(0,1,(1000, 2))\n",
    "def "
   ]
  }
 ],
 "metadata": {
  "kernelspec": {
   "display_name": "Python 3",
   "language": "python",
   "name": "python3"
  },
  "language_info": {
   "codemirror_mode": {
    "name": "ipython",
    "version": 3
   },
   "file_extension": ".py",
   "mimetype": "text/x-python",
   "name": "python",
   "nbconvert_exporter": "python",
   "pygments_lexer": "ipython3",
   "version": "3.5.6"
  }
 },
 "nbformat": 4,
 "nbformat_minor": 4
}
