{
 "cells": [
  {
   "cell_type": "markdown",
   "metadata": {},
   "source": [
    "# Buffon's Needle"
   ]
  },
  {
   "cell_type": "code",
   "execution_count": 2,
   "metadata": {},
   "outputs": [
    {
     "data": {
      "text/plain": [
       "array([[0.07206388, 0.80993565],\n",
       "       [0.20412881, 1.10934503],\n",
       "       [0.45120932, 0.1599975 ],\n",
       "       [0.3891179 , 0.41723375],\n",
       "       [0.34824397, 0.71989507],\n",
       "       [0.26290832, 1.23216548],\n",
       "       [0.04565354, 0.11981502],\n",
       "       [0.43078672, 0.9138333 ],\n",
       "       [0.31477091, 0.422514  ],\n",
       "       [0.32917015, 0.68984094]])"
      ]
     },
     "execution_count": 2,
     "metadata": {},
     "output_type": "execute_result"
    }
   ],
   "source": [
    "import numpy as np\n",
    "\n",
    "def drop_needle(n=100):\n",
    "    return np.c_[\n",
    "                 np.random.uniform(low=0.0, high=1/2, size=n),\n",
    "                 np.random.uniform(low=0.0, high=np.pi/2, size=n)\n",
    "                ]\n",
    "\n",
    "drop_needle(n=10)"
   ]
  },
  {
   "cell_type": "code",
   "execution_count": 21,
   "metadata": {},
   "outputs": [],
   "source": [
    "error = 0.0001\n",
    "n = int(1/error**2)\n",
    "needles = drop_needle(n=n)"
   ]
  },
  {
   "cell_type": "code",
   "execution_count": 22,
   "metadata": {},
   "outputs": [
    {
     "data": {
      "text/plain": [
       "3.1417147076735e-08"
      ]
     },
     "execution_count": 22,
     "metadata": {},
     "output_type": "execute_result"
    }
   ],
   "source": [
    "needles_crossing = needles[:,0] < (1/2 * np.sin(needles[:,1]))\n",
    "2 / needles_crossing.sum()"
   ]
  },
  {
   "cell_type": "markdown",
   "metadata": {},
   "source": [
    "## Exercises"
   ]
  },
  {
   "cell_type": "markdown",
   "metadata": {},
   "source": [
    "3. Alter the program MonteCarlo to estimate the area of the circle of radius 1/2 with center at (1/2, 1/2) inside the unit square by choosing 1000 points at random. Compare your results with the true value of π/4. Use your results to estimate the value of π. How accurate is your estimate?"
   ]
  },
  {
   "cell_type": "markdown",
   "metadata": {},
   "source": [
    "$\\sqrt{(x - x_1)^2 + (y - y_1)^2} = r$"
   ]
  },
  {
   "cell_type": "code",
   "execution_count": 10,
   "metadata": {},
   "outputs": [
    {
     "data": {
      "text/plain": [
       "0.79"
      ]
     },
     "execution_count": 10,
     "metadata": {},
     "output_type": "execute_result"
    }
   ],
   "source": [
    "import numpy as np\n",
    "dots = np.random.uniform(0,1,(1000,2))\n",
    "def in_circle(points):\n",
    "    x,y = points[:,0],points[:,1]\n",
    "    return np.sqrt((x-1/2)**2 + (y - 1/2)**2) <= 1/2\n",
    "\n",
    "in_circle(dots).sum() / len(dots)"
   ]
  },
  {
   "cell_type": "code",
   "execution_count": 11,
   "metadata": {},
   "outputs": [
    {
     "data": {
      "text/plain": [
       "0.7853981633974483"
      ]
     },
     "execution_count": 11,
     "metadata": {},
     "output_type": "execute_result"
    }
   ],
   "source": [
    "np.pi/4"
   ]
  },
  {
   "cell_type": "markdown",
   "metadata": {},
   "source": [
    "4. Alter the program MonteCarlo to estimate the area under the graph of $y = \\sin(πx)$ inside the unit square by choosing 10,000 points at random. Now calculate the true value of this area and use your results to  stimate the value of $π$. How accurate is your estimate?"
   ]
  },
  {
   "cell_type": "code",
   "execution_count": 34,
   "metadata": {},
   "outputs": [
    {
     "data": {
      "image/png": "[encoded data removed]",
      "text/plain": [
       "<Figure size 432x288 with 1 Axes>"
      ]
     },
     "metadata": {
      "needs_background": "light"
     },
     "output_type": "display_data"
    }
   ],
   "source": [
    "import matplotlib.pyplot as plt\n",
    "import matplotlib.patches as patches\n",
    "x = np.linspace(-2,2,1000)\n",
    "y = np.sin(np.pi * x)\n",
    "plt.plot(x,y, label='sin(pi x)')\n",
    "\n",
    "rect = patches.Rectangle((0,0),1,1,fill=False,linewidth=3,color='b', label='unit square')\n",
    "plt.gca().add_patch(rect)\n",
    "plt.grid()\n",
    "plt.axis('equal')\n",
    "plt.legend()\n",
    "plt.show()"
   ]
  },
  {
   "cell_type": "code",
   "execution_count": 40,
   "metadata": {},
   "outputs": [
    {
     "data": {
      "text/plain": [
       "0.63721"
      ]
     },
     "execution_count": 40,
     "metadata": {},
     "output_type": "execute_result"
    }
   ],
   "source": [
    "dots = np.random.uniform(0,1,(100000, 2))\n",
    "\n",
    "def under_curve(points):\n",
    "    x,y = points[:,0],points[:,1]\n",
    "    return y <= np.sin(np.pi * x)\n",
    "\n",
    "under_curve(dots).sum() / len(dots)"
   ]
  },
  {
   "cell_type": "markdown",
   "metadata": {},
   "source": [
    "The true area is: \n",
    "$\\int_{0}^{1} \\sin(\\pi x) \\,dx = - \\frac{\\cos(\\pi x)}{\\pi} \\Big|_0^1 = \\frac{2}{\\pi} \\approx 0.6366197723675814$ "
   ]
  },
  {
   "cell_type": "markdown",
   "metadata": {},
   "source": [
    "7. For Buffon’s needle problem, Laplace considered a grid with horizontal and vertical lines one unit apart. He showed that the probability that a needle of length L ≤ 1 crosses at least one line is\n",
    "<center>$p = \\frac{4L - L^2}{\\pi}$</center>\n",
    "To simulate this experiment we choose at random an angle θ between 0 and π/2 and independently two numbers d 1 and d 2 between 0 and L/2. (The two numbers represent the distance from the center of the needle to the nearest horizontal and vertical line.) The needle crosses a line if either d 1 ≤ (L/2) sin or d 2 ≤ (L/2) cos θ. We do this a large number of times and estimate π as:\n",
    "<center>$\\hat\\pi = \\frac{4L-L^2}{a}$</center>  \n",
    "where a is the proportion of times that the needle crosses at least one line. Write a program to estimate π by this method, run your program for 100, 1000, and 10,000 experiments, and compare your results with Buffon’s method described in Exercise 6. (Take L = 1.)"
   ]
  },
  {
   "cell_type": "code",
   "execution_count": 92,
   "metadata": {},
   "outputs": [
    {
     "data": {
      "text/plain": [
       "(10000, 3)"
      ]
     },
     "execution_count": 92,
     "metadata": {},
     "output_type": "execute_result"
    }
   ],
   "source": [
    "L = 1\n",
    "needles = np.concatenate([np.random.uniform(0,np.pi/2, (10000,1)),\n",
    "                          np.random.uniform(0,L/2, (10000,1)),\n",
    "                          np.random.uniform(0,L/2, (10000,1))\n",
    "                         ], axis=1)\n",
    "needles.shape"
   ]
  },
  {
   "cell_type": "code",
   "execution_count": 95,
   "metadata": {},
   "outputs": [
    {
     "data": {
      "text/plain": [
       "3.141690229343387"
      ]
     },
     "execution_count": 95,
     "metadata": {},
     "output_type": "execute_result"
    }
   ],
   "source": [
    "def crossing_line(needles):\n",
    "    theta,d1,d2 = np.split(needles,3,axis=1)\n",
    "    return ((d1 <= (L/2) * np.sin(theta)) \n",
    "            | (d2 <= (L/2) * np.cos(theta))\n",
    "           )\n",
    "\n",
    "a = crossing_line(needles).sum() / len(needles)\n",
    "pi_hat = (4 * L - L ** 2) / a\n",
    "pi_hat"
   ]
  },
  {
   "cell_type": "code",
   "execution_count": 96,
   "metadata": {},
   "outputs": [
    {
     "data": {
      "text/plain": [
       "3.141592653589793"
      ]
     },
     "execution_count": 96,
     "metadata": {},
     "output_type": "execute_result"
    }
   ],
   "source": [
    "np.pi"
   ]
  },
  {
   "cell_type": "markdown",
   "metadata": {},
   "source": [
    "9. A large number of waiting time problems have an exponential distribution of \n",
    "outcomes. We shall see (in Section 5.2) that such outcomes are simulated by\n",
    "computing (−1/λ) log(rnd), where λ > 0. For waiting times produced in this\n",
    "way, the average waiting time is 1/λ. For example, the times spent waiting for\n",
    "a car to pass on a highway, or the times between emissions of particles from a\n",
    "radioactive source, are simulated by a sequence of random numbers, each of\n",
    "which is chosen by computing (−1/λ) log(rnd), where 1/λ is the average time\n",
    "between cars or emissions. Write a program to simulate the times between\n",
    "cars when the average time between cars is 30 seconds. Have your program\n",
    "compute an area bar graph for these times by breaking the time interval from\n",
    "0 to 120 into 24 subintervals. On the same pair of axes, plot the function\n",
    "$f (x) = (1/30)e^{−(1/30)x}$ . Does the function fit the bar graph well?"
   ]
  },
  {
   "cell_type": "code",
   "execution_count": 118,
   "metadata": {},
   "outputs": [],
   "source": [
    "avg_time = 30 # seconds\n",
    "lambda_ = 1/avg_time\n",
    "rnd = np.random.uniform(size=10000)\n",
    "car_times = (-1/lambda_) * np.log(rnd)\n",
    "\n",
    "x = np.linspace(0, 120, 10000)\n",
    "car_times_theory = (1/30) * np.exp(-1/30 * x)"
   ]
  },
  {
   "cell_type": "code",
   "execution_count": 123,
   "metadata": {},
   "outputs": [
    {
     "data": {
      "image/png": "[encoded data removed]",
      "text/plain": [
       "<Figure size 432x288 with 1 Axes>"
      ]
     },
     "metadata": {
      "needs_background": "light"
     },
     "output_type": "display_data"
    }
   ],
   "source": [
    "bins = np.linspace(0,120+1,24)\n",
    "plt.hist(car_times, bins=bins, \n",
    "         density=True, edgecolor='k', label='actual time')\n",
    "plt.plot(x, car_times_theory, '-k', \n",
    "         linewidth=3,label='theoretical time')\n",
    "plt.title(\"Time spent waiting between passing cars\")\n",
    "plt.xlabel('Time (sec)')\n",
    "plt.ylabel('# of cars')\n",
    "plt.legend()\n",
    "plt.show()"
   ]
  },
  {
   "cell_type": "markdown",
   "metadata": {},
   "source": [
    "## Exercises"
   ]
  },
  {
   "cell_type": "markdown",
   "metadata": {},
   "source": [
    "- **Example 2.16** Suppose Mr. and Mrs. Lockhorn agree to meet at the Hanover Inn between 5:00 and 6:00 P.M. on Tuesday. Suppose each arrives at a time between 5:00 and 6:00 chosen at random with uniform probability. What is the distribution function for the length of time that the first to arrive has to wait for the other? What is the density function?"
   ]
  },
  {
   "cell_type": "code",
   "execution_count": 5,
   "metadata": {},
   "outputs": [],
   "source": [
    "import random\n",
    "import numpy as np\n",
    "import matplotlib.pyplot as plt\n",
    "\n",
    "mr_lock, mrs_lock = np.random.uniform(0, 60, size=(2,10000))\n",
    "diff = np.abs(mr_lock - mrs_lock)"
   ]
  },
  {
   "cell_type": "code",
   "execution_count": 18,
   "metadata": {},
   "outputs": [
    {
     "data": {
      "text/plain": [
       "<BarContainer object of 30 artists>"
      ]
     },
     "execution_count": 18,
     "metadata": {},
     "output_type": "execute_result"
    },
    {
     "data": {
      "image/png": "[encoded data removed]",
      "text/plain": [
       "<Figure size 432x288 with 1 Axes>"
      ]
     },
     "metadata": {
      "needs_background": "light"
     },
     "output_type": "display_data"
    }
   ],
   "source": [
    "# plt.hist(\n",
    "#     diff, bins=30,\n",
    "#     density=True,\n",
    "#     edgecolor='k',\n",
    "# );\n",
    "height, bins = np.histogram(diff, 30, )\n",
    "height = height/height.sum()\n",
    "bins = bins[:-1]\n",
    "# height\n",
    "# len(bins), len(height)\n",
    "plt.bar(bins, height)"
   ]
  },
  {
   "cell_type": "markdown",
   "metadata": {},
   "source": [
    "**Example 2.17**"
   ]
  },
  {
   "cell_type": "code",
   "execution_count": 33,
   "metadata": {},
   "outputs": [
    {
     "data": {
      "text/plain": [
       "30.418653679121338"
      ]
     },
     "execution_count": 33,
     "metadata": {},
     "output_type": "execute_result"
    }
   ],
   "source": [
    "lambda_ = 1/30\n",
    "X = np.log(np.random.uniform(0,1,10000)) * (-1/lambda_)\n",
    "Y = X[X > 15] - 15\n",
    "Y.mean()"
   ]
  },
  {
   "cell_type": "markdown",
   "metadata": {},
   "source": [
    "**Infinite Tree**  \n",
    "**Example 2.18** Consider an experiment in which a fair coin is tossed repeatedly,\n",
    "without stopping. We have seen in Example 1.6 that, for a coin tossed n times, the\n",
    "natural sample space is a binary tree with n stages. On this evidence we expect\n",
    "that for a coin tossed repeatedly, the natural sample space is a binary tree with an\n",
    "infinite number of stages, as indicated in Figure 2.22."
   ]
  },
  {
   "cell_type": "code",
   "execution_count": 64,
   "metadata": {},
   "outputs": [],
   "source": [
    "\n",
    "tosses = np.random.randint(0,2,(1000000,20))\n",
    "# numbers = np.zeros(tosses.shape[0])\n",
    "numbers = tosses @ np.logspace(-1,-20,num=20,base=2)"
   ]
  },
  {
   "cell_type": "code",
   "execution_count": 65,
   "metadata": {},
   "outputs": [
    {
     "data": {
      "image/png": "[encoded data removed]",
      "text/plain": [
       "<Figure size 432x288 with 1 Axes>"
      ]
     },
     "metadata": {
      "needs_background": "light"
     },
     "output_type": "display_data"
    }
   ],
   "source": [
    "plt.hist(numbers, bins=5000)\n",
    "plt.show()"
   ]
  },
  {
   "cell_type": "markdown",
   "metadata": {},
   "source": [
    "## Exercises"
   ]
  },
  {
   "cell_type": "markdown",
   "metadata": {},
   "source": [
    "**2**. Suppose you choose a real number $X$ from the interval $[2, 10]$ with a density function of the form $f (x) = Cx$ , where $C$ is a constant.  \n",
    "-  Find $C$.\n",
    "-  Find $P (E)$, where $E = [a, b]$ is a subinterval of $[2, 10]$.\n",
    "-  Find $P (X > 5)$, $P (X < 7)$, and $P (X^2 − 12X + 35 > 0)$"
   ]
  },
  {
   "cell_type": "markdown",
   "metadata": {},
   "source": [
    "---\n",
    "1. Given that $f(x)$ is a distribution function, then   $\\displaystyle\\int_2^{10}f(x)\\,dx = 1$.  \n",
    "Then $ C = \\frac{1}{48} $."
   ]
  },
  {
   "cell_type": "markdown",
   "metadata": {},
   "source": [
    "2. $P(E) = \\displaystyle\\int_a^b \\frac{1}{48} x \\,dx = \\frac{b^2 - a^2}{96}$"
   ]
  },
  {
   "cell_type": "markdown",
   "metadata": {},
   "source": [
    "3. \n",
    "    - $P(X>5) = \\displaystyle\\int_5^{10}\\frac{x}{48}\\,dx=\\frac{75}{96}$\n",
    "    - $P(X<7) = \\frac{45}{96}$\n",
    "    - Factorize quadratic equation to get $(X-5)\\cdot(X-7)>0$. <br> This holds when either $X > 7$ or $ X < 5 $. So, $P(\\cdots) = (1-\\frac{45}{96}) + (1 - \\frac{75}{96}) = \\frac{3}{4}$"
   ]
  },
  {
   "cell_type": "markdown",
   "metadata": {},
   "source": [
    "**4** Suppose you throw a dart at a circular target of radius 10 inches. Assuming\n",
    "that you hit the target and that the coordinates of the outcomes are chosen\n",
    "at random, find the probability that the dart falls  \n",
    "(a) within 2 inches of the center.  \n",
    "(b) within 2 inches of the rim.  \n",
    "(c) within the first quadrant of the target.  \n",
    "(d) within the first quadrant and within 2 inches of the rim.  "
   ]
  },
  {
   "cell_type": "markdown",
   "metadata": {},
   "source": [
    "---\n",
    "It is given that the $(x,y)$ is chosen from uniform distribution in range of $[-10,10]$. It is also implied by 'Assuming that you hit the target...' that any probability we work with must be divided by the area of the circle $\\pi 10^2$. Our random variable $Z$ is then $\\frac{\\sqrt{X^2 + Y^2} }{\\pi 10^2}$ which is just $\\frac{Area of interest}{Area of circle}$\n",
    "\n",
    "\n",
    "- $P(Z \\le 2) = \\frac{4\\pi}{10^2\\pi} = \\frac{1}{25}$\n",
    "- $P(Z \\ge 8) = 1 - \\frac{64}{100} = \\frac{36}{100}$\n",
    "- $P(angle(Z) \\in [0,\\frac{\\pi}{2}]) = \\frac{1}{4}$\n",
    "- $P(angle(Z) \\in [0,\\frac{\\pi}{2}] \\land Z \\ge 8) = \\frac{1}{4} \\cdot \\frac{36}{100} = \\frac{9}{100}$"
   ]
  },
  {
   "cell_type": "markdown",
   "metadata": {},
   "source": [
    "**6** Assume that a new light bulb will burn out after $t$ hours, where $t$ is chosen from $[0, \\infty)$ with an exponential density  \n",
    "<center> $f (t) = \\lambda \\exp^{−\\lambda t}$ .  </center>  \n",
    "\n",
    "In this context, $\\lambda$ is often called the failure rate of the bulb.  \n",
    "\n",
    "(a) Assume that $\\lambda = 0.01$, and find the probability that the bulb will not burn out before $T$ hours. This probability is often called the reliability of the bulb.  \n",
    "(b) For what $T$ is the reliability of the bulb $= 1/2$?"
   ]
  },
  {
   "cell_type": "markdown",
   "metadata": {},
   "source": [
    "---\n",
    "- Equivalent to what is probability that burnout will happen after $T$ hours? $P(T \\le t) = \\displaystyle\\int_T^\\infty 0.01 \\exp^{-0.01t} = -\\exp^{-0.01t}\\Big{|}_T^\\infty = 0 - ( -\\exp^{-0.01T}) = \\exp^{-0.01T}$ \n",
    "- $1/2 = \\exp^{-0.01T} \\to \\ln{1/2} = -0.01T \\to T = \\frac{\\ln{1/2}}{-0.01} \\approx 69.3147181$"
   ]
  },
  {
   "cell_type": "markdown",
   "metadata": {},
   "source": [
    "**9** Suppose that we have a sequence of occurrences. We assume that the time\n",
    "X between occurrences is exponentially distributed with λ = 1/10, so on the\n",
    "average, there is one occurrence every 10 minutes (see Example 2.17). You\n",
    "come upon this system at time 100, and wait until the next occurrence. Make\n",
    "a conjecture concerning how long, on the average, you will have to wait. Write\n",
    "a program to see if your conjecture is right."
   ]
  },
  {
   "cell_type": "markdown",
   "metadata": {},
   "source": [
    "---\n",
    "The system is memoryless. Therefore, on averate, I will have to wait 10 minutes more to see another occurence."
   ]
  },
  {
   "cell_type": "code",
   "execution_count": 68,
   "metadata": {},
   "outputs": [
    {
     "data": {
      "text/plain": [
       "10.260773114998006"
      ]
     },
     "execution_count": 68,
     "metadata": {},
     "output_type": "execute_result"
    }
   ],
   "source": [
    "occ_times = np.random.exponential(10, (1000,))\n",
    "occ_times.mean()"
   ]
  },
  {
   "cell_type": "markdown",
   "metadata": {},
   "source": [
    "**11** For examples such as those in Exercises 9 and 10, it might seem that at least\n",
    "you should not have to wait on average more than 10 minutes if the average\n",
    "time between occurrences is 10 minutes. Alas, even this is not true. To see\n",
    "why, consider the following assumption about the times between occurrences.\n",
    "Assume that the time between occurrences is 3 minutes with probability .9\n",
    "and 73 minutes with probability .1. Show by simulation that the average time\n",
    "between occurrences is 10 minutes, but that if you come upon this system at\n",
    "time 100, your average waiting time is more than 10 minutes."
   ]
  },
  {
   "cell_type": "markdown",
   "metadata": {},
   "source": [
    "---"
   ]
  },
  {
   "cell_type": "code",
   "execution_count": 147,
   "metadata": {},
   "outputs": [
    {
     "data": {
      "text/plain": [
       "9.968044049814809"
      ]
     },
     "execution_count": 147,
     "metadata": {},
     "output_type": "execute_result"
    }
   ],
   "source": [
    "occ_times = np.random.exponential(10,(10000,25))\n",
    "occ_times = occ_times.cumsum(axis=1)\n",
    "occ_times = [np.diff(times[times>100]) for times in occ_times]\n",
    "occ_times_mean = [np.mean(times) for times in occ_times if len(times) > 0]\n",
    "np.mean(occ_times_mean)\n",
    "\n",
    "# sum(occ_times)/len(occ_times)\n",
    "# after_arrival = \n",
    "# after_arrival = np.diff(after_arrival,axis=1)\n",
    "# after_arrival.mean(axis=0)"
   ]
  },
  {
   "cell_type": "markdown",
   "metadata": {},
   "source": [
    "**12** Take a stick of unit length and break it into three pieces, choosing the break\n",
    "points at random. (The break points are assumed to be chosen simultaneously.) What is the probability that the three pieces can be used to form a\n",
    "triangle? Hint: The sum of the lengths of any two pieces must exceed the\n",
    "length of the third, so each piece must have length < 1/2. Now use Exer\n",
    "cise 8(g).  \n",
    "\n",
    "---"
   ]
  },
  {
   "cell_type": "code",
   "execution_count": 102,
   "metadata": {},
   "outputs": [
    {
     "data": {
      "text/plain": [
       "0.2446"
      ]
     },
     "execution_count": 102,
     "metadata": {},
     "output_type": "execute_result"
    }
   ],
   "source": [
    "#three pieces, 2 breakpoints\n",
    "brptA,brptB = np.random.uniform(0,1,(2,10000)) \n",
    "len_a = np.min([brptA,brptB],axis=0)\n",
    "len_b = np.abs(brptA - brptB)\n",
    "len_c = 1 - np.max([brptA,brptB],axis=0)\n",
    "\n",
    "def is_triangle(a,b,c):\n",
    "    return (a + b >= c) & (b + c >= a) & (a + c >= b)\n",
    "\n",
    "is_triangle(len_a,len_b,len_c).mean()"
   ]
  },
  {
   "cell_type": "markdown",
   "metadata": {},
   "source": [
    "**15** At the Tunbridge World’s Fair, a coin toss game works as follows. Quarters\n",
    "are tossed onto a checkerboard. The management keeps all the quarters, but\n",
    "for each quarter landing entirely within one square of the checkerboard the\n",
    "management pays a dollar. Assume that the edge of each square is twice the\n",
    "diameter of a quarter, and that the outcomes are described by coordinates\n",
    "chosen at random. Is this a fair game?\n",
    "\n",
    "---\n",
    "\n",
    "We have $(x,y) : X,Y \\sim U(0,1)$. Success happens when $(x,y)$ satisfy the equation: $(r < x < 1-r) \\land (r < y < 1-r)$."
   ]
  },
  {
   "cell_type": "code",
   "execution_count": 21,
   "metadata": {},
   "outputs": [
    {
     "data": {
      "text/plain": [
       "0.250031397499686"
      ]
     },
     "execution_count": 21,
     "metadata": {},
     "output_type": "execute_result"
    }
   ],
   "source": [
    "error = 0.0001\n",
    "n = int(1/error**2) + 1\n",
    "xs,ys = np.random.uniform(0,1,size=(2,n))\n",
    "r = 1/4\n",
    "def satisfies(xs,ys):\n",
    "    results = (r < xs) & (xs < 1-r) & (r < ys) & (ys < 1-r)\n",
    "    return results\n",
    "\n",
    "satisfies(xs,ys).mean()"
   ]
  },
  {
   "cell_type": "markdown",
   "metadata": {},
   "source": [
    "We predict success with $25\\%$ chance. Therefore, it is fair to bet a quarter for winning a dollar. "
   ]
  },
  {
   "cell_type": "markdown",
   "metadata": {},
   "source": [
    "**16** Three points are chosen at random on a circle of unit circumference. What is\n",
    "the probability that the triangle defined by these points as vertices has three\n",
    "acute angles? Hint: One of the angles is obtuse if and only if all three points\n",
    "lie in the same semicircle. Take the circumference as the interval [0, 1]. Take\n",
    "one point at 0 and the others at B and C.\n",
    "\n",
    "---\n",
    "\n",
    "Inscribed angles in radians must all be less than $\\pi$. On unit circle, this means all three angles must 'stand' on an ark with length less than half of circumference, which is $1$."
   ]
  },
  {
   "cell_type": "code",
   "execution_count": 36,
   "metadata": {},
   "outputs": [
    {
     "data": {
      "text/plain": [
       "array([[1.98138922e-01, 5.81981267e-01, 2.19879811e-01],\n",
       "       [3.28392755e-01, 1.78353046e-01, 4.93254199e-01],\n",
       "       [2.70741584e-01, 8.74381677e-02, 6.41820248e-01],\n",
       "       ...,\n",
       "       [4.12427677e-05, 6.73281669e-01, 3.26677088e-01],\n",
       "       [2.84444384e-01, 7.15335578e-01, 2.20038708e-04],\n",
       "       [1.58713307e-01, 4.60409480e-01, 3.80877213e-01]])"
      ]
     },
     "execution_count": 36,
     "metadata": {},
     "output_type": "execute_result"
    }
   ],
   "source": [
    "error = 1e-3\n",
    "n = int(1/error**2)+1\n",
    "points = np.random.uniform(0,1,size=(n,2)) # first point is 0\n",
    "arcs = np.c_[\n",
    "    np.min(points,axis=1),\n",
    "    np.abs(np.diff(points,axis=1)),\n",
    "    1-np.max(points,axis=1),\n",
    "]\n",
    "assert all(arcs.sum(1) == 1)\n",
    "arcs"
   ]
  },
  {
   "cell_type": "code",
   "execution_count": 37,
   "metadata": {},
   "outputs": [
    {
     "data": {
      "text/plain": [
       "0.2506727493272507"
      ]
     },
     "execution_count": 37,
     "metadata": {},
     "output_type": "execute_result"
    }
   ],
   "source": [
    "acutes = (arcs < .5).all(1)\n",
    "acutes.mean()"
   ]
  },
  {
   "cell_type": "markdown",
   "metadata": {},
   "source": [
    "**22** Write a program to carry out the following experiment. A coin is tossed 100\n",
    "times and the number of heads that turn up is recorded. This experiment\n",
    "is then repeated 1000 times. Have your program plot a bar graph for the\n",
    "proportion of the 1000 experiments in which the number of heads is n, for\n",
    "each n in the interval [35, 65]. Does the bar graph look as though it can be fit\n",
    "with a normal curve?"
   ]
  },
  {
   "cell_type": "code",
   "execution_count": 176,
   "metadata": {},
   "outputs": [
    {
     "data": {
      "image/png": "[encoded data removed]",
      "text/plain": [
       "<Figure size 432x288 with 1 Axes>"
      ]
     },
     "metadata": {
      "needs_background": "light"
     },
     "output_type": "display_data"
    }
   ],
   "source": [
    "tosses = np.random.randint(0,2,(10000,100))\n",
    "heads = (tosses == 1).sum(axis=1)\n",
    "plt.hist(heads, 100,edgecolor='k', width=.94)\n",
    "\n",
    "plt.show()"
   ]
  },
  {
   "cell_type": "code",
   "execution_count": 38,
   "metadata": {},
   "outputs": [
    {
     "name": "stdout",
     "output_type": "stream",
     "text": [
      "[master 0b889d4] add excs from ch2\n",
      " 2 files changed, 543 insertions(+), 17 deletions(-)\n",
      "Enumerating objects: 11, done.\n",
      "Counting objects: 100% (11/11), done.\n",
      "Delta compression using up to 8 threads\n",
      "Compressing objects: 100% (6/6), done.\n",
      "Writing objects: 100% (6/6), 18.61 KiB | 657.00 KiB/s, done.\n",
      "Total 6 (delta 5), reused 0 (delta 0)\n",
      "remote: Resolving deltas: 100% (5/5), completed with 4 local objects.\u001b[K\n",
      "To github.com:tornikeo/Introduction-to-Probability-Snell.git\n",
      "   b6134b3..0b889d4  master -> master\n"
     ]
    }
   ],
   "source": [
    "!git add . && git commit -m \"add excs from ch2\" && git push"
   ]
  },
  {
   "cell_type": "code",
   "execution_count": null,
   "metadata": {},
   "outputs": [],
   "source": []
  }
 ],
 "metadata": {
  "kernelspec": {
   "display_name": "Python 3",
   "language": "python",
   "name": "python3"
  },
  "language_info": {
   "codemirror_mode": {
    "name": "ipython",
    "version": 3
   },
   "file_extension": ".py",
   "mimetype": "text/x-python",
   "name": "python",
   "nbconvert_exporter": "python",
   "pygments_lexer": "ipython3",
   "version": "3.5.6"
  }
 },
 "nbformat": 4,
 "nbformat_minor": 4
}
