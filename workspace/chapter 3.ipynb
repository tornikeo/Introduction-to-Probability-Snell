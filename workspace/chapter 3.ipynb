{
 "cells": [
  {
   "cell_type": "markdown",
   "metadata": {},
   "source": [
    "### Birthday Problem"
   ]
  },
  {
   "cell_type": "code",
   "execution_count": 57,
   "metadata": {
    "collapsed": true
   },
   "outputs": [
    {
     "data": {
      "text/plain": [
       "2     0.001\n",
       "3     0.005\n",
       "4     0.017\n",
       "5     0.033\n",
       "6     0.043\n",
       "7     0.059\n",
       "8     0.078\n",
       "9     0.088\n",
       "10    0.113\n",
       "11    0.141\n",
       "12    0.165\n",
       "13    0.190\n",
       "14    0.218\n",
       "15    0.250\n",
       "16    0.287\n",
       "17    0.318\n",
       "18    0.363\n",
       "19    0.394\n",
       "20    0.425\n",
       "21    0.463\n",
       "22    0.493\n",
       "23    0.520\n",
       "24    0.548\n",
       "25    0.576\n",
       "26    0.599\n",
       "27    0.634\n",
       "28    0.661\n",
       "29    0.679\n",
       "30    0.706\n",
       "31    0.726\n",
       "32    0.744\n",
       "33    0.768\n",
       "34    0.790\n",
       "35    0.804\n",
       "36    0.828\n",
       "37    0.841\n",
       "38    0.852\n",
       "39    0.869\n",
       "40    0.889\n",
       "41    0.904\n",
       "42    0.919\n",
       "43    0.932\n",
       "44    0.934\n",
       "45    0.941\n",
       "46    0.948\n",
       "47    0.956\n",
       "48    0.963\n",
       "49    0.968\n",
       "dtype: float64"
      ]
     },
     "execution_count": 57,
     "metadata": {},
     "output_type": "execute_result"
    }
   ],
   "source": [
    "import numpy as np\n",
    "from collections import Counter\n",
    "import pandas as pd\n",
    "birthdays = np.random.randint(1,366,size=(1000,365))\n",
    "\n",
    "dup_by_group = {}\n",
    "for n_people in range(2,50):\n",
    "    group = birthdays[:,:n_people]\n",
    "    group = np.sort(group)\n",
    "    has_dup = (np.diff(group) == 0).any(1) # 0 means repeated value\n",
    "    dup_by_group[n_people] = has_dup.mean()\n",
    "# birthdays\n",
    "pd.Series(dup_by_group)"
   ]
  },
  {
   "cell_type": "markdown",
   "metadata": {},
   "source": [
    "### Fixed Points"
   ]
  },
  {
   "cell_type": "code",
   "execution_count": 144,
   "metadata": {},
   "outputs": [
    {
     "data": {
      "text/plain": [
       "n=30    0.992\n",
       "n=20    0.966\n",
       "n=10    1.098\n",
       "dtype: float64"
      ]
     },
     "execution_count": 144,
     "metadata": {},
     "output_type": "execute_result"
    }
   ],
   "source": [
    "\n",
    "fixedpts = []\n",
    "for n in range(10,31,10):\n",
    "    orig = np.cumsum(np.ones((n,500)), axis=0) \n",
    "    perms = np.array([np.random.permutation(o) for o in orig.T]).T\n",
    "    fixedpts.append((perms == orig).sum(0))\n",
    "fixedpts = np.array(fixedpts)\n",
    "fixedpts = pd.DataFrame(fixedpts.T, columns=['n=30','n=20','n=10'])\n",
    "fixedpts\n",
    "fixedpts.mean()"
   ]
  },
  {
   "cell_type": "code",
   "execution_count": 152,
   "metadata": {},
   "outputs": [
    {
     "data": {
      "text/html": [
       "<div>\n",
       "<style scoped>\n",
       "    .dataframe tbody tr th:only-of-type {\n",
       "        vertical-align: middle;\n",
       "    }\n",
       "\n",
       "    .dataframe tbody tr th {\n",
       "        vertical-align: top;\n",
       "    }\n",
       "\n",
       "    .dataframe thead th {\n",
       "        text-align: right;\n",
       "    }\n",
       "</style>\n",
       "<table border=\"1\" class=\"dataframe\">\n",
       "  <thead>\n",
       "    <tr style=\"text-align: right;\">\n",
       "      <th></th>\n",
       "      <th>n=10</th>\n",
       "      <th>n=20</th>\n",
       "      <th>n=30</th>\n",
       "    </tr>\n",
       "  </thead>\n",
       "  <tbody>\n",
       "    <tr>\n",
       "      <th>0</th>\n",
       "      <td>0.326</td>\n",
       "      <td>0.382</td>\n",
       "      <td>0.370</td>\n",
       "    </tr>\n",
       "    <tr>\n",
       "      <th>1</th>\n",
       "      <td>0.374</td>\n",
       "      <td>0.348</td>\n",
       "      <td>0.372</td>\n",
       "    </tr>\n",
       "    <tr>\n",
       "      <th>2</th>\n",
       "      <td>0.208</td>\n",
       "      <td>0.204</td>\n",
       "      <td>0.178</td>\n",
       "    </tr>\n",
       "    <tr>\n",
       "      <th>3</th>\n",
       "      <td>0.068</td>\n",
       "      <td>0.056</td>\n",
       "      <td>0.060</td>\n",
       "    </tr>\n",
       "    <tr>\n",
       "      <th>4</th>\n",
       "      <td>0.018</td>\n",
       "      <td>0.008</td>\n",
       "      <td>0.016</td>\n",
       "    </tr>\n",
       "    <tr>\n",
       "      <th>5</th>\n",
       "      <td>0.004</td>\n",
       "      <td>0.002</td>\n",
       "      <td>0.004</td>\n",
       "    </tr>\n",
       "    <tr>\n",
       "      <th>6</th>\n",
       "      <td>0.002</td>\n",
       "      <td>NaN</td>\n",
       "      <td>NaN</td>\n",
       "    </tr>\n",
       "  </tbody>\n",
       "</table>\n",
       "</div>"
      ],
      "text/plain": [
       "    n=10   n=20   n=30\n",
       "0  0.326  0.382  0.370\n",
       "1  0.374  0.348  0.372\n",
       "2  0.208  0.204  0.178\n",
       "3  0.068  0.056  0.060\n",
       "4  0.018  0.008  0.016\n",
       "5  0.004  0.002  0.004\n",
       "6  0.002    NaN    NaN"
      ]
     },
     "execution_count": 152,
     "metadata": {},
     "output_type": "execute_result"
    }
   ],
   "source": [
    "probs = {}\n",
    "for col in fixedpts.columns:\n",
    "    probs[col] = (fixedpts[col].value_counts() / len(fixedpts))\n",
    "    \n",
    "pd.DataFrame(probs)"
   ]
  },
  {
   "cell_type": "code",
   "execution_count": 154,
   "metadata": {},
   "outputs": [
    {
     "data": {
      "text/plain": [
       "0.36787944117144233"
      ]
     },
     "execution_count": 154,
     "metadata": {},
     "output_type": "execute_result"
    }
   ],
   "source": [
    "1/np.e"
   ]
  },
  {
   "cell_type": "markdown",
   "metadata": {},
   "source": [
    "**22** Mr. Wimply Dimple, one of London’s most prestigious watch makers, has\n",
    "come to Sherlock Holmes in a panic, having discovered that someone has\n",
    "been producing and selling crude counterfeits of his best selling watch. The 16\n",
    "counterfeits so far discovered bear stamped numbers, all of which fall between\n",
    "1 and 56, and Dimple is anxious to know the extent of the forger’s work. All\n",
    "present agree that it seems reasonable to assume that the counterfeits thus\n",
    "far produced bear consecutive numbers from 1 to whatever the total number\n",
    "is.\n",
    "“Chin up, Dimple,” opines Dr. Watson. “I shouldn’t worry overly much if\n",
    "I were you; the Maximum Likelihood Principle, which estimates the total\n",
    "number as precisely that which gives the highest probability for the series\n",
    "of numbers found, suggests that we guess 56 itself as the total. Thus, your\n",
    "forgers are not a big operation, and we shall have them safely behind bars\n",
    "before your business suffers significantly.”\n",
    "“Stuff, nonsense, and bother your fancy principles, Watson,” counters Holmes.\n",
    "“Anyone can see that, of course, there must be quite a few more than 56\n",
    "watches—why the odds of our having discovered precisely the highest num-\n",
    "bered watch made are laughably negligible. A much better guess would be\n",
    "twice 56.”\n",
    "\n",
    "---\n",
    "\n",
    "(a) Show that Watson is correct that the Maximum Likelihood Principle\n",
    "gives 56.\n",
    "\n",
    "(b) Write a computer program to compare Holmes’s and Watson’s guessing\n",
    "strategies as follows: fix a total N and choose 16 integers randomly\n",
    "between 1 and N . Let m denote the largest of these. Then Watson’s\n",
    "guess for N is m, while Holmes’s is 2m. See which of these is closer to\n",
    "N . Repeat this experiment (with N still fixed) a hundred or more times,\n",
    "and determine the proportion of times that each comes closer. Whose\n",
    "seems to be the better strategy?"
   ]
  },
  {
   "cell_type": "code",
   "execution_count": 160,
   "metadata": {},
   "outputs": [
    {
     "data": {
      "text/plain": [
       "(89.356, 5.322)"
      ]
     },
     "execution_count": 160,
     "metadata": {},
     "output_type": "execute_result"
    }
   ],
   "source": [
    "N = 100\n",
    "nums = np.random.randint(1,N+1,size=(1000,16))\n",
    "holmes = 2*nums.max(axis=1)\n",
    "watson = nums.max(axis=1)\n",
    "holmes_off = np.abs(holmes - N)\n",
    "watson_off = np.abs(watson - N)\n",
    "holmes_off.mean(), watson_off.mean()"
   ]
  },
  {
   "cell_type": "code",
   "execution_count": null,
   "metadata": {},
   "outputs": [],
   "source": [
    "!git add . && git commit -m \"add ch3 exercies\" && git push"
   ]
  }
 ],
 "metadata": {
  "kernelspec": {
   "display_name": "Python 3",
   "language": "python",
   "name": "python3"
  },
  "language_info": {
   "codemirror_mode": {
    "name": "ipython",
    "version": 3
   },
   "file_extension": ".py",
   "mimetype": "text/x-python",
   "name": "python",
   "nbconvert_exporter": "python",
   "pygments_lexer": "ipython3",
   "version": "3.5.6"
  }
 },
 "nbformat": 4,
 "nbformat_minor": 4
}
